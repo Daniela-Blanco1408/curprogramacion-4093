{
  "nbformat": 4,
  "nbformat_minor": 0,
  "metadata": {
    "colab": {
      "provenance": []
    },
    "kernelspec": {
      "name": "python3",
      "display_name": "Python 3"
    },
    "language_info": {
      "name": "python"
    }
  },
  "cells": [
    {
      "cell_type": "markdown",
      "source": [
        "Un vendedor recibe un sueldo base más un 10% extra por\n",
        "comisión de sus ventas, el vendedor desea saber cuánto\n",
        "dinero obtendrá por concepto de comisiones por las tres\n",
        "ventas que realiza en el mes y el total que recibirá en\n",
        "el mes tomando en cuenta su sueldo base y comisiones."
      ],
      "metadata": {
        "id": "1WyR94xcaV0Q"
      }
    },
    {
      "cell_type": "code",
      "source": [
        "sueldo = float(input(\"¿cuánto es el sueldo base?\"))\n",
        "venta1 = 700000\n",
        "venta2 = 525000\n",
        "venta3 = 534900 \n",
        "total = venta1 + venta2 + venta3\n",
        "print(total)\n",
        "comision = total * 0.10\n",
        "print(comision)\n",
        "sueldototal = sueldo + comision\n",
        "print(sueldototal)\n",
        "print(\"El total de comisiones  = {:,.0f}  y sueldo final es = {:,.0f}\".format(comision,sueldototal) )"
      ],
      "metadata": {
        "id": "fXSPLjOWaZKZ",
        "outputId": "bda58b2b-f95c-4847-d29e-e953d87c4f83",
        "colab": {
          "base_uri": "https://localhost:8080/"
        }
      },
      "execution_count": null,
      "outputs": [
        {
          "output_type": "stream",
          "name": "stdout",
          "text": [
            "¿cuánto es el sueldo base?1350000\n",
            "1759900\n",
            "175990.0\n",
            "1525990.0\n",
            "El total de comisiones  = 175,990  y sueldo final es = 1,525,990\n"
          ]
        }
      ]
    },
    {
      "cell_type": "code",
      "source": [
        "# variable para capturar la compra\n",
        "venta = float(input(\"¿Cuánto fue el total de la compra? \"))\n",
        "# Cálculo del iva\n",
        "iva = venta * 0.15\n",
        "# Resta del IVA con la venta\n",
        "total = venta - iva\n",
        "# Visualiza por pantalla el total menos el iva \n",
        "print(\"El IVA es = ${:,.0f} y el total a pagar es= ${:,.0f}\".format(iva, total))"
      ],
      "metadata": {
        "colab": {
          "base_uri": "https://localhost:8080/"
        },
        "id": "Vz3O3mRUarST",
        "outputId": "29aab498-7f0e-4304-8d18-7fe6bcde9f71"
      },
      "execution_count": null,
      "outputs": [
        {
          "output_type": "stream",
          "name": "stdout",
          "text": [
            "¿Cuánto fue el total de la compra? 536000\n",
            "El IVA es = $80,400 y el total a pagar es= $455,600\n"
          ]
        }
      ]
    },
    {
      "cell_type": "markdown",
      "source": [
        "Un alumno desea saber cuál será su calificación final en\n",
        "la materia de Algoritmos. Dicha calificación se compone\n",
        "de tres exámenes parciales."
      ],
      "metadata": {
        "id": "Xfkqliycar6M"
      }
    },
    {
      "cell_type": "code",
      "source": [
        "cal1 = float(input(\"Digite la calificación 1: \"))\n",
        "cal2 = float(input(\"Digite la calificación 2: \"))\n",
        "cal3 = float(input(\"Digite la calificación 3: \"))\n",
        "\n",
        "prom = round( (cal1 + cal2 + cal3)/3,  2)\n",
        "\n",
        "print(f\"La califición final es = {prom}\")"
      ],
      "metadata": {
        "colab": {
          "base_uri": "https://localhost:8080/"
        },
        "id": "-e2t9XSDavwf",
        "outputId": "9e726d16-1136-4d55-f42e-673b7bb4053d"
      },
      "execution_count": null,
      "outputs": [
        {
          "output_type": "stream",
          "name": "stdout",
          "text": [
            "Digite la calificación 1: 4.5\n",
            "Digite la calificación 2: 3.6\n",
            "Digite la calificación 3: 4.0\n",
            "La califición final es = 4.03\n"
          ]
        }
      ]
    },
    {
      "cell_type": "markdown",
      "source": [
        "Un maestro desea saber qué porcentaje de hombres y que\n",
        "porcentaje de mujeres hay en un grupo de estudiantes."
      ],
      "metadata": {
        "id": "sAjKkwZjawf8"
      }
    },
    {
      "cell_type": "code",
      "source": [
        "mujeres = float(input(\"Digite la cantidad de mujeres: \"))\n",
        "hombres = float(input(\"Digite la cantidad de hombres: \"))\n",
        "total = mujeres + hombres\n",
        "print(total)\n",
        "print(mujeres * 100 / total )\n",
        "por1 = 33.33\n",
        "print(hombres * 100 / total )\n",
        "por2 = 66.66\n",
        "print(\"El total de hombres = {:,.0f} y el total de mujeres = {:,.0f}\".format(por1,por2) )"
      ],
      "metadata": {
        "colab": {
          "base_uri": "https://localhost:8080/"
        },
        "id": "k1Du4ZC2a1TI",
        "outputId": "9adebd6a-fb65-4143-f5e0-267f3562890c"
      },
      "execution_count": null,
      "outputs": [
        {
          "output_type": "stream",
          "name": "stdout",
          "text": [
            "Digite la cantidad de mujeres: 12\n",
            "Digite la cantidad de hombres: 24\n",
            "36.0\n",
            "33.333333333333336\n",
            "66.66666666666667\n",
            "El total de hombres = 33 y el total de mujeres = 67\n"
          ]
        }
      ]
    }
  ]
}