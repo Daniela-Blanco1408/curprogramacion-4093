{
  "nbformat": 4,
  "nbformat_minor": 0,
  "metadata": {
    "colab": {
      "provenance": []
    },
    "kernelspec": {
      "name": "python3",
      "display_name": "Python 3"
    },
    "language_info": {
      "name": "python"
    }
  },
  "cells": [
    {
      "cell_type": "code",
      "execution_count": null,
      "metadata": {
        "id": "d5HG3oFj6w1c"
      },
      "outputs": [],
      "source": []
    },
    {
      "cell_type": "markdown",
      "source": [
        "No de Identificación, Nombres, Apellidos, Dirección, Teléfono, Edad, Estado Civil, Número de hijos, Estatura en centímetros, fecha de contratación (Día/mes/año), Sueldo básico, Días Laborados."
      ],
      "metadata": {
        "id": "RVxf-AmI67Ic"
      }
    },
    {
      "cell_type": "markdown",
      "source": [
        "No de Identificación"
      ],
      "metadata": {
        "id": "0mjmuIpsAYZ6"
      }
    },
    {
      "cell_type": "code",
      "source": [
        "cedula = input (\"digite su cedula:\")\n",
        "print(cedula)"
      ],
      "metadata": {
        "id": "qpdZOsI9Aba8",
        "colab": {
          "base_uri": "https://localhost:8080/"
        },
        "outputId": "5047b381-f349-4604-880e-76e4f673a8c4"
      },
      "execution_count": 5,
      "outputs": [
        {
          "output_type": "stream",
          "name": "stdout",
          "text": [
            "digite su cedula:1032484674\n",
            "1032484674\n"
          ]
        }
      ]
    },
    {
      "cell_type": "markdown",
      "source": [
        "Nombres y Apellidos\n"
      ],
      "metadata": {
        "id": "gw0Euzr4AHuM"
      }
    },
    {
      "cell_type": "code",
      "source": [
        "def saludar(nom):\n",
        "  print(\"Hola \" + nom + \"!!!\")\n",
        "\n",
        "resp = \"si\"\n",
        "while resp == \"si\" or resp == \"s\":\n",
        "  nombre = input(\"Digite su nombre para ser saludado: \")\n",
        "  saludar(nombre)\n",
        "  resp = input(\"¿Desea saludar otra persona? \")\n",
        "\n",
        "estado_civil = \"soltera\"\n",
        "print(estado_civil)\n",
        "\n",
        "\n",
        "edad = 26\n",
        "\n",
        "def validaredad(edad):26\n",
        "if edad > 18:\n",
        "   print(\"Eres mayor de edad\")\n",
        "else:\n",
        "    print(\"no eres mayor de edad\")\n",
        "\n",
        "resp = \"si\"\n",
        "while resp == \"si\" or resp == \"s\":\n",
        "  estatura = float(input(\"Digite su edad: \"))\n",
        "  validaredad(edad)\n",
        "  resp = input(\"¿Desea digitar otra edad? \")\n",
        "\n",
        "num_hijos = \"ninguno\"\n",
        "print(num_hijos)\n",
        "\n",
        "def validarestatura(est):\n",
        "  if est > 1.75:\n",
        "    print(\"Eres una persona ALTA\")\n",
        "  else:\n",
        "    print(\"Eres una persona Baja\")\n",
        "\n",
        "resp = \"si\"\n",
        "while resp == \"si\" or resp == \"s\":\n",
        "  estatura = float(input(\"Digite su estatura: \"))\n",
        "  validarestatura(estatura)\n",
        "  resp = input(\"¿Desea digitar otra estatura? \")\n",
        "\n",
        "\n",
        "sueldo_bas = 1960600\n",
        "print(sueldo_bas)\n",
        "diaslab = 120\n",
        "print(diaslab)"
      ],
      "metadata": {
        "colab": {
          "base_uri": "https://localhost:8080/"
        },
        "id": "V1HCqdtG7CTv",
        "outputId": "f49870aa-2cf5-45d3-9494-e02ea6f8539e"
      },
      "execution_count": 17,
      "outputs": [
        {
          "output_type": "stream",
          "name": "stdout",
          "text": [
            "Digite su nombre para ser saludado: Daniela Blanco\n",
            "Hola Daniela Blanco!!!\n",
            "¿Desea saludar otra persona? l\n",
            "soltera\n",
            "Eres mayor de edad\n",
            "Digite su edad: 26\n",
            "¿Desea digitar otra edad? g\n",
            "ninguno\n",
            "Digite su estatura: 1.65\n",
            "Eres una persona Baja\n",
            "¿Desea digitar otra estatura? f\n",
            "1960600\n",
            "120\n"
          ]
        }
      ]
    },
    {
      "cell_type": "code",
      "source": [
        "password = input (\"digite su direccion:\")\n",
        "print(password)"
      ],
      "metadata": {
        "id": "hFT8vwL5Ht8_",
        "colab": {
          "base_uri": "https://localhost:8080/"
        },
        "outputId": "9068f01b-73fb-4bab-bacd-6342f633f0f7"
      },
      "execution_count": 2,
      "outputs": [
        {
          "output_type": "stream",
          "name": "stdout",
          "text": [
            "digite su direccion:calle 34 # 2-15\n",
            "calle 34 # 2-15\n"
          ]
        }
      ]
    },
    {
      "cell_type": "code",
      "source": [
        "feccontra = (\"digite su fecha:\")\n",
        "print(feccontra)"
      ],
      "metadata": {
        "id": "CTMHxUb-Ib8s",
        "outputId": "73219bd9-00b7-4906-956e-73327c416d18",
        "colab": {
          "base_uri": "https://localhost:8080/"
        }
      },
      "execution_count": 4,
      "outputs": [
        {
          "output_type": "stream",
          "name": "stdout",
          "text": [
            "digite su fecha:\n"
          ]
        }
      ]
    }
  ]
}