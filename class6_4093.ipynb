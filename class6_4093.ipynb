{
  "nbformat": 4,
  "nbformat_minor": 0,
  "metadata": {
    "colab": {
      "provenance": []
    },
    "kernelspec": {
      "name": "python3",
      "display_name": "Python 3"
    },
    "language_info": {
      "name": "python"
    }
  },
  "cells": [
    {
      "cell_type": "markdown",
      "source": [
        "#***FUNCIONES EN PYTHON***"
      ],
      "metadata": {
        "id": "yS7mS8DAACQU"
      }
    },
    {
      "cell_type": "markdown",
      "source": [
        "Declaración de una Función una variable Local está dentro de la función variable Global está fuera de la función"
      ],
      "metadata": {
        "id": "AfuwZiDPAFRb"
      }
    },
    {
      "cell_type": "code",
      "execution_count": null,
      "metadata": {
        "colab": {
          "base_uri": "https://localhost:8080/"
        },
        "id": "kD4SQPDs-QsD",
        "outputId": "15335d9e-9241-47a6-8d76-8087770919cb"
      },
      "outputs": [
        {
          "output_type": "stream",
          "name": "stdout",
          "text": [
            "Digite el número 1: 8\n",
            "Digite el número 2: 2\n",
            "El resultado es = 10\n"
          ]
        }
      ],
      "source": [
        "def suma(n1, n2):\n",
        "  res = n1 + n2\n",
        "  return res\n",
        "\n",
        "num1 = int(input(\"Digite el número 1: \"))\n",
        "num2 = int(input(\"Digite el número 2: \"))\n",
        "# print(n1)\n",
        "num3 = 5\n",
        "resultado = suma(num1, num2)\n",
        "print(f\"El resultado es = {resultado}\")"
      ]
    },
    {
      "cell_type": "code",
      "source": [
        "x = 4\n",
        "def oper(a):\n",
        "  a = a * a\n",
        "  return a\n",
        "\n",
        "resultado = oper(x)\n",
        "print(resultado)"
      ],
      "metadata": {
        "colab": {
          "base_uri": "https://localhost:8080/"
        },
        "id": "qGw5GhwBD0nM",
        "outputId": "57c77bfe-f043-4372-9f3e-c19c9fe27b0f"
      },
      "execution_count": null,
      "outputs": [
        {
          "output_type": "stream",
          "name": "stdout",
          "text": [
            "16\n"
          ]
        }
      ]
    },
    {
      "cell_type": "code",
      "source": [
        "x = 6\n",
        "def oper(a):\n",
        "  x = a * a\n",
        "\n",
        "oper(x)\n",
        "resultado = x\n",
        "print(resultado)"
      ],
      "metadata": {
        "colab": {
          "base_uri": "https://localhost:8080/"
        },
        "id": "SYOpgGadEUbo",
        "outputId": "fa39aff3-06a8-4059-9838-47a1bd7e9cdf"
      },
      "execution_count": null,
      "outputs": [
        {
          "output_type": "stream",
          "name": "stdout",
          "text": [
            "6\n"
          ]
        }
      ]
    },
    {
      "cell_type": "code",
      "source": [
        "def saludar(nom):\n",
        "  print(\"Hola \" + nom + \"!!!\")\n",
        "\n",
        "resp = \"si\"\n",
        "while resp == \"si\" or resp == \"s\":\n",
        "  nombre = input(\"Digite su nombre para ser saludado: \")\n",
        "  saludar(nombre)\n",
        "  resp = input(\"¿Desea saludar otra persona? \")"
      ],
      "metadata": {
        "colab": {
          "base_uri": "https://localhost:8080/"
        },
        "id": "QRyhD-ioE6yn",
        "outputId": "dc12067a-4dc4-41fc-c447-1d6362023605"
      },
      "execution_count": null,
      "outputs": [
        {
          "name": "stdout",
          "output_type": "stream",
          "text": [
            "Digite su nombre para ser saludado: Karen\n",
            "Hola Karen!!!\n",
            "¿Desea saludar otra persona? s\n",
            "Digite su nombre para ser saludado: Diana\n",
            "Hola Diana!!!\n",
            "¿Desea saludar otra persona? s\n",
            "Digite su nombre para ser saludado: William\n",
            "Hola William!!!\n",
            "¿Desea saludar otra persona? f\n"
          ]
        }
      ]
    },
    {
      "cell_type": "markdown",
      "source": [
        "Necesitamos saber si el usuario es alto o chaparro. Chaparro es aquel que mide cuando mucho 1.50 mts. Debe preguntar si desea realizarlo de nuevo."
      ],
      "metadata": {
        "id": "MTvDvn1xF580"
      }
    },
    {
      "cell_type": "code",
      "source": [
        "def validarestatura(est):\n",
        "  if est > 1.50:\n",
        "    print(\"Eres una persona ALTA\")\n",
        "  else:\n",
        "    print(\"Eres una persona CHAPARRA\")\n",
        "\n",
        "resp = \"si\"\n",
        "while resp == \"si\" or resp == \"s\":\n",
        "  estatura = float(input(\"Digite su estatura: \"))\n",
        "  validarestatura(estatura)\n",
        "  resp = input(\"¿Desea digitar otra estatura? \")\n"
      ],
      "metadata": {
        "colab": {
          "base_uri": "https://localhost:8080/"
        },
        "id": "JsxZQWIoF6qL",
        "outputId": "7d159464-dd79-49c9-c232-1763a54181ed"
      },
      "execution_count": null,
      "outputs": [
        {
          "name": "stdout",
          "output_type": "stream",
          "text": [
            "Digite su estatura: 1.80\n",
            "Eres una persona ALTA\n",
            "¿Desea digitar otra estatura? s\n",
            "Digite su estatura: 1.42\n",
            "Eres una persona CHAPARRA\n",
            "¿Desea digitar otra estatura? f\n"
          ]
        }
      ]
    },
    {
      "cell_type": "markdown",
      "source": [
        "**TALLER**\n",
        "\n",
        "Es integrar Ciclos y Funciones en el código del Taller 1 y Taller 2."
      ],
      "metadata": {
        "id": "lBEeiJvkH3AZ"
      }
    }
  ]
}