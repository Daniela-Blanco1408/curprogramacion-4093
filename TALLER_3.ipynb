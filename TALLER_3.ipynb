{
  "nbformat": 4,
  "nbformat_minor": 0,
  "metadata": {
    "colab": {
      "provenance": []
    },
    "kernelspec": {
      "name": "python3",
      "display_name": "Python 3"
    },
    "language_info": {
      "name": "python"
    }
  },
  "cells": [
    {
      "cell_type": "markdown",
      "source": [
        "Si el empleado es mayor de 55 años disfrutará de un bono de prepensión correspondiente al 5% de su sueldo básico."
      ],
      "metadata": {
        "id": "sQQsjbtzmVY6"
      }
    },
    {
      "cell_type": "code",
      "source": [
        "edad = int(input(\"Digite su edad: \"))\n",
        "\n",
        "if edad >= 55:\n",
        " print(\"recibe bono\")\n",
        "else:\n",
        " print(\"no recibe bono\")"
      ],
      "metadata": {
        "colab": {
          "base_uri": "https://localhost:8080/"
        },
        "id": "r_pkYeADmbRH",
        "outputId": "f647315e-6788-4405-e631-2f9ac7ebfde6"
      },
      "execution_count": null,
      "outputs": [
        {
          "output_type": "stream",
          "name": "stdout",
          "text": [
            "Digite su edad: 54\n",
            "no recibe bono\n"
          ]
        }
      ]
    },
    {
      "cell_type": "markdown",
      "source": [
        "# si el empleado es casado y tiene hijos se le otorgará un paseo cada diciembre"
      ],
      "metadata": {
        "id": "3JB0MA6JoKgm"
      }
    },
    {
      "cell_type": "code",
      "source": [
        "estciv = input(\"esta casado: \")\n",
        "hij = input(\"tiene hijos: \")\n",
        "\n",
        "if estciv == hij:\n",
        "  print(\"se le otorga paseo\")\n",
        "else:\n",
        "  print(\"No se le otorga paseo\")\n"
      ],
      "metadata": {
        "id": "8aEzEC_eoRmv",
        "colab": {
          "base_uri": "https://localhost:8080/"
        },
        "outputId": "ea1089f1-14d6-420e-fe9e-ea87e1460c6e"
      },
      "execution_count": null,
      "outputs": [
        {
          "output_type": "stream",
          "name": "stdout",
          "text": [
            "esta casado: si\n",
            "tiene hijos: si\n",
            "se le otorga paseo\n"
          ]
        }
      ]
    },
    {
      "cell_type": "markdown",
      "source": [
        "Si el sueldo básico está entre 1000000 y 1500000 tendrá una comisión del 2% sobre el valor del sueldo; Si el sueldo básico está entre 1500001 y 2000000 tendrá una comisión del 5% sobre el valor del sueldo; para todos los demás casos no habrá comisión."
      ],
      "metadata": {
        "id": "HKv7ENzFpz_f"
      }
    },
    {
      "cell_type": "code",
      "source": [
        "sueldo1= int(input(\"Digite el sueldo: \"))\n",
        "\n",
        "if sueldo1 >= 1000000  and sueldo1 <= 1500000:\n",
        "  print(\"recibe comision del 2%\")\n",
        "else:\n",
        "  print(\"no recibe comision\")\n",
        "\n",
        "sueldo2= int(input(\"Digite el sueldo: \"))\n",
        "\n",
        "if sueldo2 >= 1500001  and sueldo <= 2000000:\n",
        "  print(\"recibe comision del 5%\")\n",
        "else:\n",
        "  print(\"no recibe comision\") \n"
      ],
      "metadata": {
        "id": "8XS7bCIGqLuv",
        "colab": {
          "base_uri": "https://localhost:8080/"
        },
        "outputId": "b43d10ed-119e-4435-8695-40e0fc22591a"
      },
      "execution_count": null,
      "outputs": [
        {
          "output_type": "stream",
          "name": "stdout",
          "text": [
            "Digite el sueldo: 1200000\n",
            "recibe comision del 2%\n",
            "Digite el sueldo: 1600000\n",
            "recibe comision del 5%\n",
            "No se le dara comision\n"
          ]
        }
      ]
    },
    {
      "cell_type": "markdown",
      "source": [
        "Si el empleado trabajó más de 20 días al mes y su sueldo es menor a 1000000 tendrá derecho a un bono de alimentación."
      ],
      "metadata": {
        "id": "wbgQGr8vqP-f"
      }
    },
    {
      "cell_type": "code",
      "source": [
        "dias = int(input(\"Digite el número de dias: \"))\n",
        "sueldo= int(input(\"Digite el sueldo: \"))\n",
        "\n",
        "if dias >=  20 and sueldo <= 1000000:\n",
        " print(\"recibe bono\")\n",
        "else:\n",
        "  print(\"No recibe bono\")"
      ],
      "metadata": {
        "id": "gWgy2QqhqRCR",
        "colab": {
          "base_uri": "https://localhost:8080/"
        },
        "outputId": "06cfc7c8-2bf6-4e5a-8dc8-e7a39f55b69a"
      },
      "execution_count": null,
      "outputs": [
        {
          "output_type": "stream",
          "name": "stdout",
          "text": [
            "Digite el número de dias: 22\n",
            "Digite el sueldo: 2222222222\n",
            "No recibe bono\n"
          ]
        }
      ]
    }
  ]
}